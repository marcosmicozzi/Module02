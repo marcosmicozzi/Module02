{
 "cells": [
  {
   "cell_type": "code",
   "execution_count": null,
   "id": "fdaf3153",
   "metadata": {},
   "outputs": [],
   "source": [
    "from sklearn.datasets import make_blobs\n",
    "from sklearn.cluster import KMeans\n",
    "from sklearn.metrics import silhouette_score\n",
    "\n",
    "import pandas as pd\n",
    "\n",
    "import plotly.express as px\n",
    "from plotly.subplots import make_subplots\n",
    "import plotly.graph_objects as go\n",
    "\n",
    "from yellowbrick.cluster import SilhouetteVisualizer"
   ]
  },
  {
   "cell_type": "code",
   "execution_count": null,
   "id": "78412fed",
   "metadata": {},
   "outputs": [],
   "source": [
    "from dotenv import load_dotenv\n",
    "load_dotenv()"
   ]
  },
  {
   "cell_type": "markdown",
   "id": "83d0f410",
   "metadata": {},
   "source": [
    "## Create dummy data (3 dimensions)"
   ]
  },
  {
   "cell_type": "code",
   "execution_count": null,
   "id": "16ff4a86",
   "metadata": {},
   "outputs": [],
   "source": [
    "data = make_blobs(n_samples=200 , n_features=3, centers=4, cluster_std=0.2, center_box=(-1, 1), random_state=420)\n",
    "data"
   ]
  },
  {
   "cell_type": "code",
   "execution_count": null,
   "id": "ad4cb2f9",
   "metadata": {},
   "outputs": [],
   "source": [
    "df = pd.DataFrame(data[0], columns=[\"feature1\", \"feature2\", \"feature3\"])\n",
    "df['cluster'] = pd.Categorical(data[1].astype(str), categories=[\"0\", \"1\", \"2\", \"3\"], ordered=True)\n",
    "\n",
    "df.head()"
   ]
  },
  {
   "cell_type": "markdown",
   "id": "e66c20d9",
   "metadata": {},
   "source": [
    "## Dimensional Visualizations\n",
    "\n",
    "Inspect your data and consider outlier removal and standardization/normalization."
   ]
  },
  {
   "cell_type": "code",
   "execution_count": null,
   "id": "bfd22822",
   "metadata": {},
   "outputs": [],
   "source": [
    "fig = make_subplots(rows=1, cols=3)\n",
    "\n",
    "clusters = list(df[\"cluster\"].unique())\n",
    "clusters.sort()\n",
    "colors = px.colors.qualitative.Plotly\n",
    "\n",
    "# Subplot 1: 2 + 1\n",
    "for i, c in enumerate(clusters):\n",
    "    subset = df[df['cluster'] == c]\n",
    "    fig.add_trace(go.Scatter(\n",
    "        x=subset[\"feature1\"], \n",
    "        y=subset[\"feature2\"], \n",
    "        mode='markers',\n",
    "        name=c,\n",
    "        legendgroup=c,\n",
    "        marker=dict(color=colors[i]),\n",
    "    ), row=1, col=1)\n",
    "    \n",
    "    \n",
    "fig.update_xaxes(title_text=\"feature1\", row=1, col=1, title_standoff=10, showticklabels=False)\n",
    "fig.update_yaxes(title_text=\"feature2\", row=1, col=1, title_standoff=5, showticklabels=False)\n",
    "\n",
    "# Subplot 2: 3 + 1\n",
    "for i, c in enumerate(clusters):\n",
    "    subset = df[df['cluster'] == c]\n",
    "    fig.add_trace(go.Scatter(\n",
    "        x=subset[\"feature1\"], \n",
    "        y=subset[\"feature3\"], \n",
    "        mode='markers',\n",
    "        name=c,\n",
    "        legendgroup=c,\n",
    "        showlegend=False,\n",
    "        marker=dict(color=colors[i]),\n",
    "    ), row=1, col=2)\n",
    "    \n",
    "fig.update_xaxes(title_text=\"feature1\", row=1, col=2, title_standoff=10, showticklabels=False)\n",
    "fig.update_yaxes(title_text=\"feature3\", row=1, col=2, title_standoff=5, showticklabels=False)\n",
    "    \n",
    "# Subplot 3: 3 + 2\n",
    "for i, c in enumerate(clusters):\n",
    "    subset = df[df['cluster'] == c]\n",
    "    fig.add_trace(go.Scatter(\n",
    "        x=subset[\"feature2\"], \n",
    "        y=subset[\"feature3\"],  \n",
    "        mode='markers',\n",
    "        name=c,\n",
    "        legendgroup=c,\n",
    "        showlegend=False,\n",
    "        marker=dict(color=colors[i]),\n",
    "    ), row=1, col=3)\n",
    "\n",
    "fig.update_xaxes(title_text=\"feature2\", row=1, col=3, title_standoff=10, showticklabels=False)\n",
    "fig.update_yaxes(title_text=\"feature3\", row=1, col=3, title_standoff=5, showticklabels=False)\n",
    "\n",
    "fig.update_layout(height=400, width=900, title_text=\"Feature Pairs Colored by Cluster\")\n",
    "\n",
    "fig.show()"
   ]
  },
  {
   "cell_type": "code",
   "execution_count": null,
   "id": "e4d56dc8",
   "metadata": {},
   "outputs": [],
   "source": [
    "px.scatter_3d(\n",
    "    df, \n",
    "    x=\"feature1\", y=\"feature2\", z=\"feature3\", \n",
    "    color=\"cluster\", \n",
    "    category_orders={\"cluster\": [\"0\", \"1\", \"2\", \"3\"]},\n",
    "    width=600, height=500\n",
    ")\n"
   ]
  },
  {
   "cell_type": "markdown",
   "id": "e8e6f45d",
   "metadata": {},
   "source": [
    "## Elbow Method"
   ]
  },
  {
   "cell_type": "code",
   "execution_count": null,
   "id": "7f050865",
   "metadata": {},
   "outputs": [],
   "source": [
    "inertia = []\n",
    "\n",
    "for k in range(1, 10):\n",
    "    kmeans = KMeans(n_clusters=k, random_state=420).fit(df.values)\n",
    "    inertia.append(kmeans.inertia_)\n",
    "    \n",
    "inertia"
   ]
  },
  {
   "cell_type": "code",
   "execution_count": null,
   "id": "1b61979c",
   "metadata": {},
   "outputs": [],
   "source": [
    "px.line(\n",
    "    x=range(1,10), \n",
    "    y=inertia,\n",
    "    labels={\n",
    "        \"y\": \"Inertia\", \n",
    "        \"x\": \"Cluster #\"\n",
    "    },\n",
    "    width=500, height=300\n",
    ")"
   ]
  },
  {
   "cell_type": "markdown",
   "id": "6411cbee",
   "metadata": {},
   "source": [
    "## Silhouette Analysis\n",
    "\n",
    "[Silhouette Visualizer](https://www.scikit-yb.org/en/latest/api/cluster/silhouette.html) comes from the `yellowbrick` package, which will need to be installed in your Anaconda Environment. "
   ]
  },
  {
   "cell_type": "code",
   "execution_count": null,
   "id": "9f3e30b8",
   "metadata": {},
   "outputs": [],
   "source": [
    "k_clusters = 4 # increment to compare different cluster #s\n",
    "kmeans = KMeans(n_clusters=k_clusters, random_state=420) \n",
    "silhouette_avg = silhouette_score(df, kmeans.fit_predict(df.values))\n",
    "silhouette_avg"
   ]
  },
  {
   "cell_type": "code",
   "execution_count": null,
   "id": "b9ed9461",
   "metadata": {},
   "outputs": [],
   "source": [
    "visualizer = SilhouetteVisualizer(kmeans, colors=colors)\n",
    "visualizer.fit(df.values)\n",
    "visualizer.show()"
   ]
  },
  {
   "cell_type": "code",
   "execution_count": null,
   "id": "b5bff728",
   "metadata": {},
   "outputs": [],
   "source": [
    "df[\"cluster\"] = data[1].astype(str)\n",
    "df['cluster'] = pd.Categorical(df['cluster'], categories=[\"0\", \"1\", \"2\", \"3\"], ordered=True)"
   ]
  },
  {
   "cell_type": "code",
   "execution_count": null,
   "id": "3003305c",
   "metadata": {},
   "outputs": [],
   "source": [
    "df_preds = df.copy()\n",
    "df_preds[\"cluster\"] = pd.Categorical(\n",
    "    kmeans.labels_.astype(str), \n",
    "    categories=[\"0\", \"1\", \"2\", \"3\"], \n",
    "    ordered=True\n",
    ")\n",
    "\n",
    "\n",
    "px.scatter_3d(\n",
    "    df_preds, \n",
    "    x=\"feature1\", y=\"feature2\", z=\"feature3\", \n",
    "    height=500, width=600, color=\"cluster\",\n",
    "    category_orders={\"cluster\": [\"0\", \"1\", \"2\", \"3\"]},\n",
    "    title=f\"{k_clusters} Clusters | Silhouette Average: {silhouette_avg}\"\n",
    ")"
   ]
  }
 ],
 "metadata": {
  "kernelspec": {
   "display_name": "CAB_Module2",
   "language": "python",
   "name": "python3"
  },
  "language_info": {
   "codemirror_mode": {
    "name": "ipython",
    "version": 3
   },
   "file_extension": ".py",
   "mimetype": "text/x-python",
   "name": "python",
   "nbconvert_exporter": "python",
   "pygments_lexer": "ipython3",
   "version": "3.12.9"
  }
 },
 "nbformat": 4,
 "nbformat_minor": 5
}
